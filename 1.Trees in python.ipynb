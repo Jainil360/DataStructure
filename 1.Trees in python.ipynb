{
 "cells": [
  {
   "cell_type": "markdown",
   "metadata": {},
   "source": [
    "# Trees"
   ]
  },
  {
   "cell_type": "markdown",
   "metadata": {},
   "source": [
    "<p>\n",
    "    Tree represents the nodes connected by edges. It is a non-linear data structure. It has the following properties.\n",
    "\n",
    "One node is marked as Root node.\n",
    "Every node other than the root is associated with one parent node.\n",
    "Each node can have an arbiatry number of chid node.\n",
    "We create a tree data structure in python by using the concept os node discussed earlier. We designate one node as root node and then add more nodes as child nodes. Below is program to create the root node.\n",
    "</p>"
   ]
  },
  {
   "cell_type": "markdown",
   "metadata": {},
   "source": [
    "# 1. Create tree (Root)"
   ]
  },
  {
   "cell_type": "markdown",
   "metadata": {},
   "source": [
    "<pre><b>Create Root</b>\n",
    "We just create a Node class and add assign a value to the node. This becomes tree with only a root node.\n",
    "    </pre>"
   ]
  },
  {
   "cell_type": "code",
   "execution_count": 4,
   "metadata": {},
   "outputs": [
    {
     "name": "stdout",
     "output_type": "stream",
     "text": [
      "10\n"
     ]
    }
   ],
   "source": [
    "class Node:\n",
    "    def __init__(self,data):\n",
    "        self.data = data\n",
    "        self.left = None\n",
    "        self.right = None\n",
    "\n",
    "    def printTree(self):\n",
    "        print(self.data)\n",
    "        \n",
    "        \n",
    "        \n",
    "root  = Node(10)        #create object Node\n",
    "\n",
    "root.printTree()        #printing the node (root)"
   ]
  },
  {
   "cell_type": "markdown",
   "metadata": {},
   "source": [
    "# 2. Insert Into Tree"
   ]
  },
  {
   "cell_type": "markdown",
   "metadata": {},
   "source": [
    "<pre><b>Inserting into a Tree</b>\n",
    "To insert into a tree we use the same node class created above and add an insert method to it The insert method compares the value of the node to the parent node and decides to add it as a left node or a right node. Finally, the PrintTree method is used to print the tree.\n",
    "</pre>"
   ]
  },
  {
   "cell_type": "markdown",
   "metadata": {},
   "source": [
    "<ul> <li>Inorder</li> <li>Preorder </li> <li> Postorder</li> </ul>"
   ]
  },
  {
   "cell_type": "code",
   "execution_count": 11,
   "metadata": {},
   "outputs": [
    {
     "name": "stdout",
     "output_type": "stream",
     "text": [
      "Inorder Printing\n",
      "3\n",
      "6\n",
      "12\n",
      "14\n",
      "PreOrder Printing\n",
      "12\n",
      "6\n",
      "3\n",
      "14\n",
      "PostOrder Printing\n",
      "3\n",
      "6\n",
      "14\n",
      "12\n"
     ]
    }
   ],
   "source": [
    "class Node:\n",
    "    def __init__(self,data):\n",
    "        self.data = data\n",
    "        self.left = None\n",
    "        self.right = None\n",
    "    def insert(self, data):     \n",
    "        if self.data:\n",
    "            if data < self.data:\n",
    "                if self.left is None:\n",
    "                    self.left = Node(data)\n",
    "                else:\n",
    "                    self.left.insert(data)\n",
    "            elif data>  self.data:\n",
    "                if self.right is None:\n",
    "                    self.right = Node(data)\n",
    "                else:\n",
    "                    self.right.insert(data)\n",
    "        else:\n",
    "            self.data = data\n",
    "\n",
    "    def printTreeIn(self): #inorder (L ROOT R)\n",
    "        if self.left:\n",
    "            self.left.printTreeIn()    \n",
    "        print(self.data)\n",
    "        if self.right:\n",
    "            self.right.printTreeIn()\n",
    "            \n",
    "    def printTreePre(self): #preOrder (ROOT L R)\n",
    "        print(self.data)\n",
    "        if self.left:\n",
    "            self.left.printTreePre()   \n",
    "        if self.right:\n",
    "            self.right.printTreePre()\n",
    "            \n",
    "    def printTreePost(self): #postOrder (L R ROOT)\n",
    "        if self.left:\n",
    "            self.left.printTreePost()    \n",
    "        if self.right:\n",
    "            self.right.printTreePost()\n",
    "        print(self.data)    \n",
    "            \n",
    "# Use the insert method to add nodes\n",
    "root = Node(12)\n",
    "root.insert(6)\n",
    "root.insert(14)\n",
    "root.insert(3)\n",
    "\n",
    "print(\"Inorder Printing\")\n",
    "root.printTreeIn()\n",
    "\n",
    "print(\"PreOrder Printing\")\n",
    "root.printTreePre()\n",
    "\n",
    "print(\"PostOrder Printing\")\n",
    "root.printTreePost()"
   ]
  }
 ],
 "metadata": {
  "kernelspec": {
   "display_name": "Python 3",
   "language": "python",
   "name": "python3"
  },
  "language_info": {
   "codemirror_mode": {
    "name": "ipython",
    "version": 3
   },
   "file_extension": ".py",
   "mimetype": "text/x-python",
   "name": "python",
   "nbconvert_exporter": "python",
   "pygments_lexer": "ipython3",
   "version": "3.8.3"
  }
 },
 "nbformat": 4,
 "nbformat_minor": 4
}
